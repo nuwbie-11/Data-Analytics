{
 "cells": [
  {
   "cell_type": "code",
   "execution_count": 1,
   "metadata": {},
   "outputs": [],
   "source": [
    "import pandas as pd"
   ]
  },
  {
   "cell_type": "code",
   "execution_count": 2,
   "metadata": {},
   "outputs": [],
   "source": [
    "filePath = \"Business Analyst (junior).xls\""
   ]
  },
  {
   "cell_type": "code",
   "execution_count": 3,
   "metadata": {},
   "outputs": [],
   "source": [
    "df = pd.read_excel(filePath,sheet_name='2019')\n",
    "df2 = pd.read_excel(filePath,sheet_name='2020')"
   ]
  },
  {
   "cell_type": "code",
   "execution_count": 4,
   "metadata": {},
   "outputs": [
    {
     "data": {
      "text/html": [
       "<div>\n",
       "<style scoped>\n",
       "    .dataframe tbody tr th:only-of-type {\n",
       "        vertical-align: middle;\n",
       "    }\n",
       "\n",
       "    .dataframe tbody tr th {\n",
       "        vertical-align: top;\n",
       "    }\n",
       "\n",
       "    .dataframe thead th {\n",
       "        text-align: right;\n",
       "    }\n",
       "</style>\n",
       "<table border=\"1\" class=\"dataframe\">\n",
       "  <thead>\n",
       "    <tr style=\"text-align: right;\">\n",
       "      <th></th>\n",
       "      <th>Order number</th>\n",
       "      <th>Client ID</th>\n",
       "      <th>Product code</th>\n",
       "      <th>Date of delivery</th>\n",
       "      <th>Delivery amount</th>\n",
       "    </tr>\n",
       "  </thead>\n",
       "  <tbody>\n",
       "    <tr>\n",
       "      <th>0</th>\n",
       "      <td>97058.0</td>\n",
       "      <td>7121.0</td>\n",
       "      <td>494843.0</td>\n",
       "      <td>2019-01-24</td>\n",
       "      <td>9565.0</td>\n",
       "    </tr>\n",
       "    <tr>\n",
       "      <th>1</th>\n",
       "      <td>2968.0</td>\n",
       "      <td>7167.0</td>\n",
       "      <td>111937.0</td>\n",
       "      <td>2019-01-29</td>\n",
       "      <td>18907.0</td>\n",
       "    </tr>\n",
       "    <tr>\n",
       "      <th>2</th>\n",
       "      <td>2968.0</td>\n",
       "      <td>7167.0</td>\n",
       "      <td>218889.0</td>\n",
       "      <td>2019-01-29</td>\n",
       "      <td>54132.0</td>\n",
       "    </tr>\n",
       "    <tr>\n",
       "      <th>3</th>\n",
       "      <td>45863.0</td>\n",
       "      <td>7136.0</td>\n",
       "      <td>495715.0</td>\n",
       "      <td>2019-02-07</td>\n",
       "      <td>28023.0</td>\n",
       "    </tr>\n",
       "    <tr>\n",
       "      <th>4</th>\n",
       "      <td>45863.0</td>\n",
       "      <td>7136.0</td>\n",
       "      <td>495716.0</td>\n",
       "      <td>2019-02-07</td>\n",
       "      <td>59120.0</td>\n",
       "    </tr>\n",
       "  </tbody>\n",
       "</table>\n",
       "</div>"
      ],
      "text/plain": [
       "   Order number  Client ID  Product code Date of delivery  Delivery amount\n",
       "0       97058.0     7121.0      494843.0       2019-01-24           9565.0\n",
       "1        2968.0     7167.0      111937.0       2019-01-29          18907.0\n",
       "2        2968.0     7167.0      218889.0       2019-01-29          54132.0\n",
       "3       45863.0     7136.0      495715.0       2019-02-07          28023.0\n",
       "4       45863.0     7136.0      495716.0       2019-02-07          59120.0"
      ]
     },
     "execution_count": 4,
     "metadata": {},
     "output_type": "execute_result"
    }
   ],
   "source": [
    "#concat the data for easier handling\n",
    "data = pd.concat([df,df2],ignore_index=True)\n",
    "data.head()"
   ]
  },
  {
   "cell_type": "code",
   "execution_count": 5,
   "metadata": {},
   "outputs": [
    {
     "name": "stdout",
     "output_type": "stream",
     "text": [
      "<class 'pandas.core.frame.DataFrame'>\n",
      "RangeIndex: 66313 entries, 0 to 66312\n",
      "Data columns (total 5 columns):\n",
      " #   Column            Non-Null Count  Dtype         \n",
      "---  ------            --------------  -----         \n",
      " 0   Order number      778 non-null    float64       \n",
      " 1   Client ID         778 non-null    float64       \n",
      " 2   Product code      778 non-null    float64       \n",
      " 3   Date of delivery  778 non-null    datetime64[ns]\n",
      " 4   Delivery amount   65819 non-null  float64       \n",
      "dtypes: datetime64[ns](1), float64(4)\n",
      "memory usage: 2.5 MB\n"
     ]
    }
   ],
   "source": [
    "data.info()"
   ]
  },
  {
   "cell_type": "code",
   "execution_count": 14,
   "metadata": {},
   "outputs": [
    {
     "data": {
      "text/html": [
       "<div>\n",
       "<style scoped>\n",
       "    .dataframe tbody tr th:only-of-type {\n",
       "        vertical-align: middle;\n",
       "    }\n",
       "\n",
       "    .dataframe tbody tr th {\n",
       "        vertical-align: top;\n",
       "    }\n",
       "\n",
       "    .dataframe thead th {\n",
       "        text-align: right;\n",
       "    }\n",
       "</style>\n",
       "<table border=\"1\" class=\"dataframe\">\n",
       "  <thead>\n",
       "    <tr style=\"text-align: right;\">\n",
       "      <th></th>\n",
       "      <th>Order number</th>\n",
       "      <th>Client ID</th>\n",
       "      <th>Product code</th>\n",
       "      <th>Date of delivery</th>\n",
       "      <th>Delivery amount</th>\n",
       "    </tr>\n",
       "  </thead>\n",
       "  <tbody>\n",
       "    <tr>\n",
       "      <th>3</th>\n",
       "      <td>45863.0</td>\n",
       "      <td>7136.0</td>\n",
       "      <td>495715.0</td>\n",
       "      <td>2019-02-07</td>\n",
       "      <td>28023.0</td>\n",
       "    </tr>\n",
       "    <tr>\n",
       "      <th>4</th>\n",
       "      <td>45863.0</td>\n",
       "      <td>7136.0</td>\n",
       "      <td>495716.0</td>\n",
       "      <td>2019-02-07</td>\n",
       "      <td>59120.0</td>\n",
       "    </tr>\n",
       "    <tr>\n",
       "      <th>5</th>\n",
       "      <td>45863.0</td>\n",
       "      <td>7136.0</td>\n",
       "      <td>495717.0</td>\n",
       "      <td>2019-02-07</td>\n",
       "      <td>45829.0</td>\n",
       "    </tr>\n",
       "    <tr>\n",
       "      <th>6</th>\n",
       "      <td>45863.0</td>\n",
       "      <td>7136.0</td>\n",
       "      <td>495719.0</td>\n",
       "      <td>2019-02-07</td>\n",
       "      <td>42980.0</td>\n",
       "    </tr>\n",
       "    <tr>\n",
       "      <th>7</th>\n",
       "      <td>45863.0</td>\n",
       "      <td>7136.0</td>\n",
       "      <td>495720.0</td>\n",
       "      <td>2019-02-07</td>\n",
       "      <td>4028.0</td>\n",
       "    </tr>\n",
       "    <tr>\n",
       "      <th>8</th>\n",
       "      <td>45863.0</td>\n",
       "      <td>7136.0</td>\n",
       "      <td>495713.0</td>\n",
       "      <td>2019-02-07</td>\n",
       "      <td>38903.0</td>\n",
       "    </tr>\n",
       "    <tr>\n",
       "      <th>9</th>\n",
       "      <td>45863.0</td>\n",
       "      <td>7136.0</td>\n",
       "      <td>495722.0</td>\n",
       "      <td>2019-02-07</td>\n",
       "      <td>33661.0</td>\n",
       "    </tr>\n",
       "    <tr>\n",
       "      <th>10</th>\n",
       "      <td>45863.0</td>\n",
       "      <td>7136.0</td>\n",
       "      <td>495718.0</td>\n",
       "      <td>2019-02-07</td>\n",
       "      <td>1937.0</td>\n",
       "    </tr>\n",
       "    <tr>\n",
       "      <th>11</th>\n",
       "      <td>45863.0</td>\n",
       "      <td>7136.0</td>\n",
       "      <td>495714.0</td>\n",
       "      <td>2019-02-07</td>\n",
       "      <td>41604.0</td>\n",
       "    </tr>\n",
       "    <tr>\n",
       "      <th>12</th>\n",
       "      <td>45863.0</td>\n",
       "      <td>7136.0</td>\n",
       "      <td>495721.0</td>\n",
       "      <td>2019-02-07</td>\n",
       "      <td>30900.0</td>\n",
       "    </tr>\n",
       "  </tbody>\n",
       "</table>\n",
       "</div>"
      ],
      "text/plain": [
       "    Order number  Client ID  Product code Date of delivery  Delivery amount\n",
       "3        45863.0     7136.0      495715.0       2019-02-07          28023.0\n",
       "4        45863.0     7136.0      495716.0       2019-02-07          59120.0\n",
       "5        45863.0     7136.0      495717.0       2019-02-07          45829.0\n",
       "6        45863.0     7136.0      495719.0       2019-02-07          42980.0\n",
       "7        45863.0     7136.0      495720.0       2019-02-07           4028.0\n",
       "8        45863.0     7136.0      495713.0       2019-02-07          38903.0\n",
       "9        45863.0     7136.0      495722.0       2019-02-07          33661.0\n",
       "10       45863.0     7136.0      495718.0       2019-02-07           1937.0\n",
       "11       45863.0     7136.0      495714.0       2019-02-07          41604.0\n",
       "12       45863.0     7136.0      495721.0       2019-02-07          30900.0"
      ]
     },
     "execution_count": 14,
     "metadata": {},
     "output_type": "execute_result"
    }
   ],
   "source": [
    "data[data['Order number'] == 45863]"
   ]
  },
  {
   "cell_type": "markdown",
   "metadata": {},
   "source": [
    "As we can see every Order Number has one precise Client ID. but multiple product code, And be delivered at same day. \n",
    "\n",
    "There are too much null data. But we cant fill the nulls with only Known Delivery Amount. So lets work with the known data first"
   ]
  },
  {
   "cell_type": "code",
   "execution_count": 15,
   "metadata": {},
   "outputs": [],
   "source": [
    "null_values = df.isnull()"
   ]
  },
  {
   "cell_type": "code",
   "execution_count": null,
   "metadata": {},
   "outputs": [],
   "source": []
  },
  {
   "cell_type": "code",
   "execution_count": 12,
   "metadata": {},
   "outputs": [
    {
     "data": {
      "text/plain": [
       "<AxesSubplot:xlabel='Date of delivery'>"
      ]
     },
     "execution_count": 12,
     "metadata": {},
     "output_type": "execute_result"
    },
    {
     "data": {
      "image/png": "[encoded data removed]",
      "text/plain": [
       "<Figure size 640x480 with 1 Axes>"
      ]
     },
     "metadata": {},
     "output_type": "display_data"
    }
   ],
   "source": [
    "data.groupby('Date of delivery')['Order number'].count().plot()"
   ]
  },
  {
   "cell_type": "code",
   "execution_count": null,
   "metadata": {},
   "outputs": [],
   "source": []
  }
 ],
 "metadata": {
  "kernelspec": {
   "display_name": "mlstuff",
   "language": "python",
   "name": "python3"
  },
  "language_info": {
   "codemirror_mode": {
    "name": "ipython",
    "version": 3
   },
   "file_extension": ".py",
   "mimetype": "text/x-python",
   "name": "python",
   "nbconvert_exporter": "python",
   "pygments_lexer": "ipython3",
   "version": "3.9.11"
  },
  "orig_nbformat": 4
 },
 "nbformat": 4,
 "nbformat_minor": 2
}
